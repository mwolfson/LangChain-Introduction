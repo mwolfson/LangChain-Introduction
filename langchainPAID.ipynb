{
 "cells": [
  {
   "cell_type": "markdown",
   "id": "dcaca6ab-d576-4306-b810-96d67a430497",
   "metadata": {},
   "source": [
    "# Chains in LangChain\n",
    "\n",
    "## Outline\n",
    "\n",
    "* LLMChain\n",
    "* Sequential Chains\n",
    "  * SimpleSequentialChain\n",
    "  * SequentialChain\n",
    "* Router Chain"
   ]
  },
  {
   "cell_type": "markdown",
   "id": "2049c45f",
   "metadata": {},
   "source": [
    "```pip install langchain-openai```\n",
    "\n",
    "Accessing the API requires an API key, which you can get by creating an account and heading here. Once we have a key we'll want to set it as an environment variable by running:\n",
    "\n",
    "```export OPENAI_API_KEY=\"...\"```"
   ]
  },
  {
   "cell_type": "code",
   "execution_count": null,
   "id": "b4a0400b-3178-4559-aec6-bcb80f517a37",
   "metadata": {},
   "outputs": [],
   "source": [
    "import warnings\n",
    "warnings.filterwarnings('ignore')"
   ]
  },
  {
   "cell_type": "code",
   "execution_count": null,
   "id": "79e52222-1691-465e-a028-992a648ad9e4",
   "metadata": {},
   "outputs": [],
   "source": [
    "import os\n",
    "\n",
    "from dotenv import load_dotenv, find_dotenv\n",
    "_ = load_dotenv(find_dotenv()) # read local .env file"
   ]
  },
  {
   "cell_type": "code",
   "execution_count": null,
   "id": "a84cf7a1-29f7-4583-a7e4-e35d32cfefc0",
   "metadata": {},
   "outputs": [],
   "source": [
    "#!pip install pandas"
   ]
  },
  {
   "cell_type": "code",
   "execution_count": null,
   "id": "e6799f68-f0eb-4bdc-86e8-405ea37863a8",
   "metadata": {},
   "outputs": [],
   "source": [
    "import pandas as pd\n",
    "df = pd.read_csv('paidDemo.csv')"
   ]
  },
  {
   "cell_type": "code",
   "execution_count": null,
   "id": "a26d9b26-c147-4bf3-a015-7aac37584373",
   "metadata": {},
   "outputs": [],
   "source": [
    "df.head()"
   ]
  },
  {
   "cell_type": "markdown",
   "id": "584d57d0-ded8-4711-9a5a-b93f31eb3ef4",
   "metadata": {},
   "source": [
    "# LLM Chain"
   ]
  },
  {
   "cell_type": "markdown",
   "id": "3c4dbcfe",
   "metadata": {},
   "source": [
    "#### Components\n",
    "\n",
    "Import various components to be used"
   ]
  },
  {
   "cell_type": "code",
   "execution_count": null,
   "id": "a6133bf9-940f-4822-ad6b-31509aee5575",
   "metadata": {},
   "outputs": [],
   "source": [
    "from langchain.chat_models import ChatOpenAI\n",
    "from langchain.prompts import ChatPromptTemplate\n",
    "from langchain.chains import LLMChain"
   ]
  },
  {
   "cell_type": "markdown",
   "id": "8b91cf8a",
   "metadata": {},
   "source": [
    "#### Create LLM reference and configuration"
   ]
  },
  {
   "cell_type": "code",
   "execution_count": null,
   "id": "a506a563-dcdb-4f99-a407-6f94d3e52ffa",
   "metadata": {},
   "outputs": [],
   "source": [
    "llm_model = \"gpt-3.5-turbo-0301\"\n",
    "\n",
    "llm = ChatOpenAI(temperature=0.9, model=llm_model)"
   ]
  },
  {
   "cell_type": "markdown",
   "id": "8b9125fb",
   "metadata": {},
   "source": [
    "# figure out how to get Gemini (or whatever) also referenced here, so I can switch them out easily"
   ]
  },
  {
   "cell_type": "markdown",
   "id": "9ec73710",
   "metadata": {},
   "source": [
    "#### Chat Prompt Template\n",
    "\n",
    "This uses template to create `prompt` with specific text, that will has a single parameter: **ValueProp**"
   ]
  },
  {
   "cell_type": "code",
   "execution_count": null,
   "id": "242c658e-c636-4426-acec-394c36d11226",
   "metadata": {},
   "outputs": [],
   "source": [
    "prompt = ChatPromptTemplate.from_template(\n",
    "    \"What is a good name for company with the core value proposition: {ValueProp}?\"\n",
    ")\n",
    "print(prompt)\n"
   ]
  },
  {
   "cell_type": "markdown",
   "id": "4d49ffa1",
   "metadata": {},
   "source": [
    "#### Create a Chain with LLM and Prompt reference"
   ]
  },
  {
   "cell_type": "code",
   "execution_count": null,
   "id": "4f6d97e5-01b2-4b24-8e25-5e16872e07fc",
   "metadata": {},
   "outputs": [],
   "source": [
    "chain = LLMChain(llm=llm, prompt=prompt)"
   ]
  },
  {
   "cell_type": "markdown",
   "id": "fcdab7f1",
   "metadata": {},
   "source": [
    "#### Add input and run Chain"
   ]
  },
  {
   "cell_type": "code",
   "execution_count": null,
   "id": "405d14c4",
   "metadata": {},
   "outputs": [],
   "source": [
    "valueProp = \"revolutionary software library that unlocks the full potential of next-generation large language models like ChatGPT or Bard\"\n",
    "chain.run(valueProp)"
   ]
  },
  {
   "cell_type": "code",
   "execution_count": null,
   "id": "aaa4c2a7",
   "metadata": {},
   "outputs": [],
   "source": [
    "valueProp = \"revolutionary software library that makes it super simple to analyze and translate test\"\n",
    "chain.run(valueProp)"
   ]
  },
  {
   "cell_type": "code",
   "execution_count": null,
   "id": "8b227666-4a79-435d-9c12-0fe8a11a448c",
   "metadata": {},
   "outputs": [],
   "source": [
    "valueProp = \"revolutionary software library that converts media between different formats\"\n",
    "chain.run(valueProp)"
   ]
  },
  {
   "cell_type": "markdown",
   "id": "f38f6dfd-ac64-4385-96fa-9665c560ee90",
   "metadata": {},
   "source": [
    "# SimpleSequentialChain\n",
    "\n",
    "Simple chain where the outputs of one step feed directly into next."
   ]
  },
  {
   "cell_type": "markdown",
   "id": "117add10",
   "metadata": {},
   "source": [
    "#### Import Components"
   ]
  },
  {
   "cell_type": "code",
   "execution_count": null,
   "id": "07f55c70-ad66-4f51-aefe-199e06077cb3",
   "metadata": {},
   "outputs": [],
   "source": [
    "from langchain.chains import SimpleSequentialChain"
   ]
  },
  {
   "cell_type": "markdown",
   "id": "e56568ca",
   "metadata": {},
   "source": [
    "#### First Prompt - Create name of company"
   ]
  },
  {
   "cell_type": "code",
   "execution_count": null,
   "id": "5b26faf2-3c0f-4dfa-bafc-6f06f66ae09c",
   "metadata": {},
   "outputs": [],
   "source": [
    "first_prompt = ChatPromptTemplate.from_template(\n",
    "    \"What is a good name for company with the core value proposition: {ValueProp}?\"\n",
    ")\n",
    "\n",
    "#Chain 1\n",
    "chain_one = LLMChain(llm=llm, prompt=first_prompt)"
   ]
  },
  {
   "cell_type": "markdown",
   "id": "ca782e3e",
   "metadata": {},
   "source": [
    "#### Second Chain - Use the generated name to write a description of the company"
   ]
  },
  {
   "cell_type": "code",
   "execution_count": null,
   "id": "c661ae0a-b257-490a-b024-f2493df70c31",
   "metadata": {},
   "outputs": [],
   "source": [
    "#prompt template 2\n",
    "second_prompt = ChatPromptTemplate.from_template(\n",
    "    \"Write a 20 words description for the following company: {company_name}\"\n",
    ")\n",
    "\n",
    "#chain 2\n",
    "chain_two = LLMChain(llm=llm, prompt= second_prompt)"
   ]
  },
  {
   "cell_type": "markdown",
   "id": "8d65d668",
   "metadata": {},
   "source": [
    "##### Create a sequential chain to connect them"
   ]
  },
  {
   "cell_type": "code",
   "execution_count": null,
   "id": "6c1478f4-dcec-4d25-96a4-95dd338bf2d4",
   "metadata": {},
   "outputs": [],
   "source": [
    "overall_simple_chain = SimpleSequentialChain(chains=[chain_one, chain_two],\n",
    "                                             verbose=True\n",
    "                                            )"
   ]
  },
  {
   "cell_type": "code",
   "execution_count": null,
   "id": "9b06d0f0-0aa0-4985-9c8e-e9f86a896231",
   "metadata": {},
   "outputs": [],
   "source": [
    "valueProp = \"revolutionary software library that unlocks the full potential of next-generation large language models like ChatGPT or Bard\"\n",
    "overall_simple_chain.run(valueProp)"
   ]
  },
  {
   "cell_type": "markdown",
   "id": "924d03d3-3e72-4226-bbc5-93e3e9e0be83",
   "metadata": {},
   "source": [
    "# SequentialChain"
   ]
  },
  {
   "cell_type": "code",
   "execution_count": null,
   "id": "599e9020-310e-4726-94ca-b873dc822450",
   "metadata": {},
   "outputs": [],
   "source": [
    "from langchain.chains import SequentialChain"
   ]
  },
  {
   "cell_type": "code",
   "execution_count": null,
   "id": "878c3382-c0bd-44f9-99d9-f19734e3e90d",
   "metadata": {},
   "outputs": [],
   "source": [
    "llm = ChatOpenAI(temperature=0.0, model=llm_model)"
   ]
  },
  {
   "cell_type": "code",
   "execution_count": null,
   "id": "96c8c3e6-7e0e-468f-8d9f-bb737a0d6ce2",
   "metadata": {},
   "outputs": [],
   "source": [
    "#prompt template 1: translate to english\n",
    "first_prompt = ChatPromptTemplate.from_template(\n",
    "    \"Translate the following review to English: {Review}\"\n",
    ")\n",
    "\n",
    "#chain 1: input= Review, output= English_Review\n",
    "chain_one = LLMChain(\n",
    "    llm=llm, \n",
    "    prompt=first_prompt, \n",
    "    output_key=\"English_review\"\n",
    ")"
   ]
  },
  {
   "cell_type": "code",
   "execution_count": null,
   "id": "6e4c2b28-079c-43f9-bf78-ff30c916f2ec",
   "metadata": {},
   "outputs": [],
   "source": [
    "#prompt template 2: Summarize review\n",
    "second_prompt = ChatPromptTemplate.from_template(\n",
    "    \"Can you summarize the following review into 1 sentence: {English_review}\"\n",
    ")\n",
    "\n",
    "#chain 1: input= English_review, output= summary\n",
    "chain_two = LLMChain(\n",
    "    llm=llm, \n",
    "    prompt=second_prompt,\n",
    "    output_key=\"summary\"\n",
    ")\n",
    "    "
   ]
  },
  {
   "cell_type": "code",
   "execution_count": null,
   "id": "b2139fc1-f388-4b24-a150-c5a3f2bb69f4",
   "metadata": {},
   "outputs": [],
   "source": [
    "#prompt template 3: translate to english\n",
    "third_prompt = ChatPromptTemplate.from_template(\n",
    "    \"What language is the following review in: {Review}\"\n",
    ")\n",
    "\n",
    "#chain 1: input= Review, output= language\n",
    "chain_three = LLMChain(\n",
    "    llm=llm, \n",
    "    prompt=third_prompt,\n",
    "    output_key=\"language\"\n",
    ")"
   ]
  },
  {
   "cell_type": "code",
   "execution_count": null,
   "id": "03eefa0b-0c4b-484b-aa5f-777b15766a1e",
   "metadata": {},
   "outputs": [],
   "source": [
    "#prompt template 4: follow up message\n",
    "forth_prompt = ChatPromptTemplate.from_template(\n",
    "    \"Write a follow up response to the following summary in the specified language:\\\n",
    "    Summary: {summary}  Language: {language}\"\n",
    ")\n",
    "\n",
    "#chain 4: input= suummary, language, output= followup_message\n",
    "chain_four = LLMChain(\n",
    "    llm=llm, \n",
    "    prompt=forth_prompt,\n",
    "    output_key=\"followup_message\"\n",
    ")"
   ]
  },
  {
   "cell_type": "code",
   "execution_count": null,
   "id": "cd1b7312-cd31-43d0-85f9-d374f60fee40",
   "metadata": {},
   "outputs": [],
   "source": [
    "#overall_chain: input = Review output = English_review, summary, followup_message\n",
    "overall_chain = SequentialChain(\n",
    "    chains=[chain_one, chain_two, chain_three, chain_four],\n",
    "    input_variables=[\"Review\"],\n",
    "    output_variables=[\"English_review\", \"summary\", \"followup_message\"],\n",
    "    verbose=True\n",
    ")"
   ]
  },
  {
   "cell_type": "code",
   "execution_count": null,
   "id": "2d08c272-d687-4f72-8372-60c0b9d2602c",
   "metadata": {},
   "outputs": [],
   "source": [
    "review = \"Je trouve le goût médiocre. La mousse ne tient pas, c'est bizarre. J'achète les mêmes dans le commerce et le goût est bien meilleur...\\nVieux lot ou contrefaçon !?\"\n",
    "overall_chain(review)"
   ]
  },
  {
   "cell_type": "markdown",
   "id": "4e6a6070-74ad-4e22-aac7-104a25f2d7d5",
   "metadata": {},
   "source": [
    "# Router Chain"
   ]
  },
  {
   "cell_type": "code",
   "execution_count": null,
   "id": "7f85e210-8771-42ca-8020-ac774abe7eb1",
   "metadata": {},
   "outputs": [],
   "source": [
    "physics_template = \"\"\"You are a very smart physics professor. \\\n",
    "You are great at answering questions about physics in a concise\\\n",
    "and easy to understand manner. \\\n",
    "When you don't know the answer to a question you admit\\\n",
    "that you don't know.\n",
    "\n",
    "Here is a question:\n",
    "{input}\"\"\"\n",
    "\n",
    "\n",
    "math_template = \"\"\"You are a very good mathematician. \\\n",
    "You are great at answering math questions. \\\n",
    "You are so good because you are able to break down \\\n",
    "hard problems into their component parts, \n",
    "answer the component parts, and then put them together\\\n",
    "to answer the broader question.\n",
    "\n",
    "Here is a question:\n",
    "{input}\"\"\"\n",
    "\n",
    "history_template = \"\"\"You are a very good historian. \\\n",
    "You have an excellent knowledge of and understanding of people,\\\n",
    "events and contexts from a range of historical periods. \\\n",
    "You have the ability to think, reflect, debate, discuss and \\\n",
    "evaluate the past. You have a respect for historical evidence\\\n",
    "and the ability to make use of it to support your explanations \\\n",
    "and judgements.\n",
    "\n",
    "Here is a question:\n",
    "{input}\"\"\"\n",
    "\n",
    "\n",
    "computerscience_template = \"\"\" You are a successful computer scientist.\\\n",
    "You have a passion for creativity, collaboration,\\\n",
    "forward-thinking, confidence, strong problem-solving capabilities,\\\n",
    "understanding of theories and algorithms, and excellent communication \\\n",
    "skills. You are great at answering coding questions. \\\n",
    "You are so good because you know how to solve a problem by \\\n",
    "describing the solution in imperative steps \\\n",
    "that a machine can easily interpret and you know how to \\\n",
    "choose a solution that has a good balance between \\\n",
    "time complexity and space complexity. \n",
    "\n",
    "Here is a question:\n",
    "{input}\"\"\""
   ]
  },
  {
   "cell_type": "code",
   "execution_count": null,
   "id": "06775b74-26a2-4aa8-b74f-1365db327611",
   "metadata": {},
   "outputs": [],
   "source": [
    "prompt_infos = [\n",
    "    {\n",
    "        \"name\": \"physics\", \n",
    "        \"description\": \"Good for answering questions about physics\", \n",
    "        \"prompt_template\": physics_template\n",
    "    },\n",
    "    {\n",
    "        \"name\": \"math\", \n",
    "        \"description\": \"Good for answering math questions\", \n",
    "        \"prompt_template\": math_template\n",
    "    },\n",
    "    {\n",
    "        \"name\": \"History\", \n",
    "        \"description\": \"Good for answering history questions\", \n",
    "        \"prompt_template\": history_template\n",
    "    },\n",
    "    {\n",
    "        \"name\": \"computer science\", \n",
    "        \"description\": \"Good for answering computer science questions\", \n",
    "        \"prompt_template\": computerscience_template\n",
    "    }\n",
    "]"
   ]
  },
  {
   "cell_type": "code",
   "execution_count": null,
   "id": "4021f8f6-34c4-4426-b4cd-f231ab2c906b",
   "metadata": {},
   "outputs": [],
   "source": [
    "from langchain.chains.router import MultiPromptChain\n",
    "from langchain.chains.router.llm_router import LLMRouterChain, RouterOutputParser\n",
    "from langchain.prompts import PromptTemplate"
   ]
  },
  {
   "cell_type": "code",
   "execution_count": null,
   "id": "e99641df-4c37-48e9-9c1d-fff1d83c6ec1",
   "metadata": {},
   "outputs": [],
   "source": [
    "llm = ChatOpenAI(temperature=0.0, model=llm_model)"
   ]
  },
  {
   "cell_type": "code",
   "execution_count": null,
   "id": "203cd3de-a382-4a6d-a56a-842fb28ddf1c",
   "metadata": {},
   "outputs": [],
   "source": [
    "destination_chains = {}\n",
    "for p_info in prompt_infos:\n",
    "    name = p_info[\"name\"]\n",
    "    prompt_template= p_info[\"prompt_template\"]\n",
    "    prompt = ChatPromptTemplate.from_template(template=prompt_template)\n",
    "    chain = LLMChain(llm=llm, prompt=prompt)\n",
    "    destination_chains[name] = chain\n",
    "\n",
    "destinations = [f\"{p['name']}: {p['description']}\" for p in prompt_infos]\n",
    "destinations_str = \"\\n\".join(destinations)"
   ]
  },
  {
   "cell_type": "code",
   "execution_count": null,
   "id": "b92df8e1-91cf-4583-ba1e-ffc755bd6756",
   "metadata": {},
   "outputs": [],
   "source": [
    "default_prompt = ChatPromptTemplate.from_template(\"{input}\")\n",
    "default_chain = LLMChain(llm=llm, prompt=default_prompt)"
   ]
  },
  {
   "cell_type": "code",
   "execution_count": null,
   "id": "b46c7e67-d2c9-425f-82fc-5a70730e1dcf",
   "metadata": {},
   "outputs": [],
   "source": [
    "MULTI_PROMPT_ROUTER_TEMPLATE = \"\"\"Given a raw text input to a \\\n",
    "language model select the model prompt best suited for the input. \\\n",
    "You will be given the names of the available prompts and a \\\n",
    "description of what the prompt is best suited for. \\\n",
    "You may also revise the original input if you think that revising\\\n",
    "it will ultimately lead to a better response from the language model.\n",
    "\n",
    "<< FORMATTING >>\n",
    "Return a markdown code snippet with a JSON object formatted to look like:\n",
    "```json\n",
    "{{{{\n",
    "    \"destination\": string \\ name of the prompt to use or \"DEFAULT\"\n",
    "    \"next_inputs\": string \\ a potentially modified version of the original input\n",
    "}}}}\n",
    "```\n",
    "\n",
    "REMEMBER: \"destination\" MUST be one of the candidate prompt \\\n",
    "names specified below OR it can be \"DEFAULT\" if the input is not\\\n",
    "well suited for any of the candidate prompts.\n",
    "REMEMBER: \"next_inputs\" can just be the original input \\\n",
    "if you don't think any modifications are needed.\n",
    "\n",
    "<< CANDIDATE PROMPTS >>\n",
    "{destinations}\n",
    "\n",
    "<< INPUT >>\n",
    "{{input}}\n",
    "\n",
    "<< OUTPUT (remember to include the ```json)>>\"\"\""
   ]
  },
  {
   "cell_type": "code",
   "execution_count": null,
   "id": "90cc8f7a-1ae0-42b2-95ad-750d190a8242",
   "metadata": {},
   "outputs": [],
   "source": [
    "router_template = MULTI_PROMPT_ROUTER_TEMPLATE.format(\n",
    "    destinations=destinations_str\n",
    ")\n",
    "router_prompt = PromptTemplate(\n",
    "    template=router_template,\n",
    "    input_variables=[\"input\"],\n",
    "    output_parser=RouterOutputParser(),\n",
    ")\n",
    "\n",
    "router_chain = LLMRouterChain.from_llm(llm, router_prompt)"
   ]
  },
  {
   "cell_type": "code",
   "execution_count": null,
   "id": "c9c2f3b8-4535-498d-8d3b-d6ddd4791e2e",
   "metadata": {},
   "outputs": [],
   "source": [
    "chain = MultiPromptChain(\n",
    "    router_chain= router_chain,\n",
    "    destination_chains=destination_chains,\n",
    "    default_chain=default_chain,\n",
    "    verbose=True\n",
    ")"
   ]
  },
  {
   "cell_type": "code",
   "execution_count": null,
   "id": "117c4be9-d6cb-44a2-9f0b-99ed8ee46bc0",
   "metadata": {},
   "outputs": [],
   "source": [
    "# Change this prompt, and notice that the route is different based on the type of prompt\n",
    "chain.run(\"what is the square root of 48\")"
   ]
  },
  {
   "cell_type": "code",
   "execution_count": null,
   "id": "ed88ea64-da48-44b0-bcbc-7a6075d2687f",
   "metadata": {},
   "outputs": [],
   "source": []
  }
 ],
 "metadata": {
  "kernelspec": {
   "display_name": "Python 3 (ipykernel)",
   "language": "python",
   "name": "python3"
  },
  "language_info": {
   "codemirror_mode": {
    "name": "ipython",
    "version": 3
   },
   "file_extension": ".py",
   "mimetype": "text/x-python",
   "name": "python",
   "nbconvert_exporter": "python",
   "pygments_lexer": "ipython3",
   "version": "3.11.4"
  }
 },
 "nbformat": 4,
 "nbformat_minor": 5
}
